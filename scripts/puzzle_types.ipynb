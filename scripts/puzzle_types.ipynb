{
 "cells": [
  {
   "cell_type": "code",
   "execution_count": 4,
   "metadata": {},
   "outputs": [
    {
     "name": "stdout",
     "output_type": "stream",
     "text": [
      "Themes\n",
      "advantage middlegame short                                                     410\n",
      "endgame mate mateIn2 short                                                     351\n",
      "crushing middlegame short                                                      284\n",
      "mate mateIn1 middlegame oneMove                                                280\n",
      "crushing endgame short                                                         233\n",
      "                                                                              ... \n",
      "advantage discoveredAttack fork long master middlegame                           1\n",
      "advantage doubleCheck long middlegame                                            1\n",
      "bodenMate clearance mate mateIn2 middlegame queensideAttack sacrifice short      1\n",
      "long mate mateIn3 middlegame queensideAttack sacrifice                           1\n",
      "advantage deflection hangingPiece middlegame short                               1\n",
      "Name: count, Length: 2113, dtype: int64\n"
     ]
    }
   ],
   "source": [
    "import pandas as pd\n",
    "\n",
    "df = pd.read_csv('lichess_db_puzzle.csv')\n",
    "\n",
    "# Randomly sample 10,000 rows\n",
    "df_sample = df.sample(n=10000)\n",
    "\n",
    "# Count the frequency of each value in the \"themes\" column\n",
    "theme_counts = df_sample['Themes'].value_counts()\n",
    "\n",
    "print(theme_counts)"
   ]
  }
 ],
 "metadata": {
  "kernelspec": {
   "display_name": "Python 3",
   "language": "python",
   "name": "python3"
  },
  "language_info": {
   "codemirror_mode": {
    "name": "ipython",
    "version": 3
   },
   "file_extension": ".py",
   "mimetype": "text/x-python",
   "name": "python",
   "nbconvert_exporter": "python",
   "pygments_lexer": "ipython3",
   "version": "3.10.12"
  }
 },
 "nbformat": 4,
 "nbformat_minor": 2
}
